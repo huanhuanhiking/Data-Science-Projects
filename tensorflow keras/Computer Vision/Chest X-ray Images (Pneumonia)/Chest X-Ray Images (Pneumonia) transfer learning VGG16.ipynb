{
 "cells": [
  {
   "cell_type": "code",
   "execution_count": 1,
   "metadata": {},
   "outputs": [
    {
     "name": "stderr",
     "output_type": "stream",
     "text": [
      "Using plaidml.keras.backend backend.\n"
     ]
    }
   ],
   "source": [
    "import os\n",
    "os.environ[\"KERAS_BACKEND\"] = \"plaidml.keras.backend\"\n",
    "import keras"
   ]
  },
  {
   "cell_type": "code",
   "execution_count": 2,
   "metadata": {},
   "outputs": [],
   "source": [
    "train_data_directory = 'D:/Dropbox/Machine Learning/Data/Chest Xray/chest_xray'"
   ]
  },
  {
   "cell_type": "code",
   "execution_count": 3,
   "metadata": {},
   "outputs": [
    {
     "name": "stdout",
     "output_type": "stream",
     "text": [
      "Found 4686 images belonging to 2 classes.\n",
      "Found 1170 images belonging to 2 classes.\n"
     ]
    }
   ],
   "source": [
    "# image data preprocessing\n",
    "image_size = (112,112)\n",
    "\n",
    "batch_size = 128\n",
    "\n",
    "\n",
    "class_mode = 'binary' # for multi-class classification problem, use: class_mode = 'category' \n",
    "\n",
    "from keras.preprocessing.image import ImageDataGenerator\n",
    "train_datagen = ImageDataGenerator(\n",
    "    rescale=1./255,\n",
    "    shear_range=0.2,\n",
    "    zoom_range=0.2,\n",
    "    width_shift_range=0.1,\n",
    "    height_shift_range=0.1,\n",
    "    horizontal_flip=True,\n",
    "    fill_mode=\"nearest\",\n",
    "    validation_split=0.2 # set validation split\n",
    "    ) \n",
    "\n",
    "train_generator = train_datagen.flow_from_directory(\n",
    "    train_data_directory,\n",
    "    target_size=image_size,\n",
    "    batch_size=batch_size,\n",
    "    class_mode=class_mode, # for multi-class classification problem, use 'category'\n",
    "    subset='training') # set as training data\n",
    "\n",
    "validation_generator = train_datagen.flow_from_directory(\n",
    "    train_data_directory, # same directory as training data\n",
    "    target_size=image_size,\n",
    "    batch_size=batch_size,\n",
    "    class_mode=class_mode, # for multi-class classification problem, use 'category'\n",
    "    subset='validation') # set as validation data"
   ]
  },
  {
   "cell_type": "code",
   "execution_count": 4,
   "metadata": {},
   "outputs": [
    {
     "name": "stderr",
     "output_type": "stream",
     "text": [
      "INFO:plaidml:Opening device \"opencl_nvidia_geforce_rtx_3080.0\"\n"
     ]
    },
    {
     "name": "stdout",
     "output_type": "stream",
     "text": [
      "_________________________________________________________________\n",
      "Layer (type)                 Output Shape              Param #   \n",
      "=================================================================\n",
      "input_1 (InputLayer)         (None, 112, 112, 3)       0         \n",
      "_________________________________________________________________\n",
      "block1_conv1 (Conv2D)        (None, 112, 112, 64)      1792      \n",
      "_________________________________________________________________\n",
      "block1_conv2 (Conv2D)        (None, 112, 112, 64)      36928     \n",
      "_________________________________________________________________\n",
      "block1_pool (MaxPooling2D)   (None, 56, 56, 64)        0         \n",
      "_________________________________________________________________\n",
      "block2_conv1 (Conv2D)        (None, 56, 56, 128)       73856     \n",
      "_________________________________________________________________\n",
      "block2_conv2 (Conv2D)        (None, 56, 56, 128)       147584    \n",
      "_________________________________________________________________\n",
      "block2_pool (MaxPooling2D)   (None, 28, 28, 128)       0         \n",
      "_________________________________________________________________\n",
      "block3_conv1 (Conv2D)        (None, 28, 28, 256)       295168    \n",
      "_________________________________________________________________\n",
      "block3_conv2 (Conv2D)        (None, 28, 28, 256)       590080    \n",
      "_________________________________________________________________\n",
      "block3_conv3 (Conv2D)        (None, 28, 28, 256)       590080    \n",
      "_________________________________________________________________\n",
      "block3_pool (MaxPooling2D)   (None, 14, 14, 256)       0         \n",
      "_________________________________________________________________\n",
      "block4_conv1 (Conv2D)        (None, 14, 14, 512)       1180160   \n",
      "_________________________________________________________________\n",
      "block4_conv2 (Conv2D)        (None, 14, 14, 512)       2359808   \n",
      "_________________________________________________________________\n",
      "block4_conv3 (Conv2D)        (None, 14, 14, 512)       2359808   \n",
      "_________________________________________________________________\n",
      "block4_pool (MaxPooling2D)   (None, 7, 7, 512)         0         \n",
      "_________________________________________________________________\n",
      "block5_conv1 (Conv2D)        (None, 7, 7, 512)         2359808   \n",
      "_________________________________________________________________\n",
      "block5_conv2 (Conv2D)        (None, 7, 7, 512)         2359808   \n",
      "_________________________________________________________________\n",
      "block5_conv3 (Conv2D)        (None, 7, 7, 512)         2359808   \n",
      "_________________________________________________________________\n",
      "block5_pool (MaxPooling2D)   (None, 3, 3, 512)         0         \n",
      "_________________________________________________________________\n",
      "flatten_1 (Flatten)          (None, 4608)              0         \n",
      "_________________________________________________________________\n",
      "dense_1 (Dense)              (None, 2048)              9439232   \n",
      "_________________________________________________________________\n",
      "dropout_1 (Dropout)          (None, 2048)              0         \n",
      "_________________________________________________________________\n",
      "dense_2 (Dense)              (None, 1024)              2098176   \n",
      "_________________________________________________________________\n",
      "dropout_2 (Dropout)          (None, 1024)              0         \n",
      "_________________________________________________________________\n",
      "dense_3 (Dense)              (None, 512)               524800    \n",
      "_________________________________________________________________\n",
      "dropout_3 (Dropout)          (None, 512)               0         \n",
      "_________________________________________________________________\n",
      "dense_4 (Dense)              (None, 1)                 513       \n",
      "=================================================================\n",
      "Total params: 26,777,409\n",
      "Trainable params: 12,062,721\n",
      "Non-trainable params: 14,714,688\n",
      "_________________________________________________________________\n"
     ]
    }
   ],
   "source": [
    "# build a model\n",
    "from keras.models import Sequential\n",
    "from keras.layers import Dense, Conv2D, MaxPool2D , Flatten, BatchNormalization, Dropout\n",
    "from keras.applications import VGG16\n",
    "from keras import Model\n",
    "\n",
    "model = VGG16(\n",
    "    weights='imagenet',  # Load weights pre-trained on ImageNet.\n",
    "    input_shape=(112, 112, 3),\n",
    "    include_top=False)\n",
    "\n",
    "for layer in model.layers:\n",
    "    layer.trainable = False\n",
    "\n",
    "last = model.output\n",
    "\n",
    "x = Flatten()(last)\n",
    "x = Dense(2048, activation='relu')(x)\n",
    "x = Dropout(0.5)(x)\n",
    "x = Dense(1024, activation='relu')(x)\n",
    "x = Dropout(0.5)(x)\n",
    "x = Dense(512, activation='relu')(x)\n",
    "x = Dropout(0.5)(x)\n",
    "predictions = Dense(1, activation='sigmoid')(x)\n",
    "\n",
    "# this is the model we will train\n",
    "model = Model(inputs=model.input, outputs=predictions)\n",
    "\n",
    "model.summary()"
   ]
  },
  {
   "cell_type": "code",
   "execution_count": 5,
   "metadata": {},
   "outputs": [],
   "source": [
    "# compile model\n",
    "from keras import optimizers\n",
    "model.compile(loss='binary_crossentropy',\n",
    "          optimizer=optimizers.Adam(lr=0.001),\n",
    "          metrics=['acc'])"
   ]
  },
  {
   "cell_type": "code",
   "execution_count": 6,
   "metadata": {},
   "outputs": [],
   "source": [
    "# Callbacks\n",
    "from keras.callbacks import ModelCheckpoint, EarlyStopping, ReduceLROnPlateau\n",
    "checkpoint = ModelCheckpoint(\"PneumoniaDetection_Model.h5\", \n",
    "                             monitor='val_acc', \n",
    "                             verbose=1, \n",
    "                             save_best_only=True, \n",
    "                             save_weights_only=False, \n",
    "                             mode='auto')\n",
    "\n",
    "early_stop = EarlyStopping(monitor='val_acc', \n",
    "                      min_delta=0, \n",
    "                      patience=10, \n",
    "                      verbose=1, \n",
    "                      mode='auto')\n",
    "\n",
    "learning_rate_reduction = ReduceLROnPlateau(monitor='val_acc', \n",
    "                                            patience=2, \n",
    "                                            verbose=1, \n",
    "                                            factor=0.2, \n",
    "                                            min_lr=0.0000001)"
   ]
  },
  {
   "cell_type": "code",
   "execution_count": 7,
   "metadata": {
    "scrolled": false
   },
   "outputs": [
    {
     "name": "stdout",
     "output_type": "stream",
     "text": [
      "Epoch 1/200\n",
      "36/36 [==============================] - 42s 1s/step - loss: 0.5072 - acc: 0.7933 - val_loss: 0.2205 - val_acc: 0.9167\n",
      "\n",
      "Epoch 00001: val_acc improved from -inf to 0.91667, saving model to PneumoniaDetection_Model.h5\n",
      "Epoch 2/200\n",
      "36/36 [==============================] - 45s 1s/step - loss: 0.2440 - acc: 0.9015 - val_loss: 0.1937 - val_acc: 0.9223\n",
      "\n",
      "Epoch 00002: val_acc improved from 0.91667 to 0.92226, saving model to PneumoniaDetection_Model.h5\n",
      "Epoch 3/200\n",
      "36/36 [==============================] - 43s 1s/step - loss: 0.2277 - acc: 0.9133 - val_loss: 0.1841 - val_acc: 0.9213\n",
      "\n",
      "Epoch 00003: val_acc did not improve from 0.92226\n",
      "Epoch 4/200\n",
      "36/36 [==============================] - 42s 1s/step - loss: 0.2034 - acc: 0.9186 - val_loss: 0.2410 - val_acc: 0.9136\n",
      "\n",
      "Epoch 00004: val_acc did not improve from 0.92226\n",
      "\n",
      "Epoch 00004: ReduceLROnPlateau reducing learning rate to 0.00020000000949949026.\n",
      "Epoch 5/200\n",
      "36/36 [==============================] - 40s 1s/step - loss: 0.1827 - acc: 0.9266 - val_loss: 0.1763 - val_acc: 0.9319\n",
      "\n",
      "Epoch 00005: val_acc improved from 0.92226 to 0.93186, saving model to PneumoniaDetection_Model.h5\n",
      "Epoch 6/200\n",
      "36/36 [==============================] - 38s 1s/step - loss: 0.1710 - acc: 0.9341 - val_loss: 0.1568 - val_acc: 0.9443\n",
      "\n",
      "Epoch 00006: val_acc improved from 0.93186 to 0.94434, saving model to PneumoniaDetection_Model.h5\n",
      "Epoch 7/200\n",
      "36/36 [==============================] - 37s 1s/step - loss: 0.1712 - acc: 0.9344 - val_loss: 0.1541 - val_acc: 0.9415\n",
      "\n",
      "Epoch 00007: val_acc did not improve from 0.94434\n",
      "Epoch 8/200\n",
      "36/36 [==============================] - 37s 1s/step - loss: 0.1771 - acc: 0.9328 - val_loss: 0.1609 - val_acc: 0.9376\n",
      "\n",
      "Epoch 00008: val_acc did not improve from 0.94434\n",
      "\n",
      "Epoch 00008: ReduceLROnPlateau reducing learning rate to 4.0000001899898055e-05.\n",
      "Epoch 9/200\n",
      "36/36 [==============================] - 38s 1s/step - loss: 0.1611 - acc: 0.9377 - val_loss: 0.1563 - val_acc: 0.9434\n",
      "\n",
      "Epoch 00009: val_acc did not improve from 0.94434\n",
      "Epoch 10/200\n",
      "36/36 [==============================] - 37s 1s/step - loss: 0.1584 - acc: 0.9410 - val_loss: 0.1702 - val_acc: 0.9319\n",
      "\n",
      "Epoch 00010: val_acc did not improve from 0.94434\n",
      "\n",
      "Epoch 00010: ReduceLROnPlateau reducing learning rate to 8.000000525498762e-06.\n",
      "Epoch 11/200\n",
      "36/36 [==============================] - 38s 1s/step - loss: 0.1620 - acc: 0.9398 - val_loss: 0.1559 - val_acc: 0.9410\n",
      "\n",
      "Epoch 00011: val_acc did not improve from 0.94434\n",
      "Epoch 12/200\n",
      "36/36 [==============================] - 46s 1s/step - loss: 0.1555 - acc: 0.9418 - val_loss: 0.1617 - val_acc: 0.9328\n",
      "\n",
      "Epoch 00012: val_acc did not improve from 0.94434\n",
      "\n",
      "Epoch 00012: ReduceLROnPlateau reducing learning rate to 1.6000001778593287e-06.\n",
      "Epoch 13/200\n",
      "36/36 [==============================] - 36s 1s/step - loss: 0.1564 - acc: 0.9406 - val_loss: 0.1657 - val_acc: 0.9347\n",
      "\n",
      "Epoch 00013: val_acc did not improve from 0.94434\n",
      "Epoch 14/200\n",
      "36/36 [==============================] - 37s 1s/step - loss: 0.1686 - acc: 0.9357 - val_loss: 0.1632 - val_acc: 0.9386\n",
      "\n",
      "Epoch 00014: val_acc did not improve from 0.94434\n",
      "\n",
      "Epoch 00014: ReduceLROnPlateau reducing learning rate to 3.200000264769187e-07.\n",
      "Epoch 15/200\n",
      "36/36 [==============================] - 38s 1s/step - loss: 0.1559 - acc: 0.9423 - val_loss: 0.1463 - val_acc: 0.9443\n",
      "\n",
      "Epoch 00015: val_acc improved from 0.94434 to 0.94434, saving model to PneumoniaDetection_Model.h5\n",
      "Epoch 16/200\n",
      "36/36 [==============================] - 37s 1s/step - loss: 0.1665 - acc: 0.9352 - val_loss: 0.1785 - val_acc: 0.9328\n",
      "\n",
      "Epoch 00016: val_acc did not improve from 0.94434\n",
      "\n",
      "Epoch 00016: ReduceLROnPlateau reducing learning rate to 1e-07.\n",
      "Epoch 17/200\n",
      "36/36 [==============================] - 37s 1s/step - loss: 0.1624 - acc: 0.9384 - val_loss: 0.1597 - val_acc: 0.9347\n",
      "\n",
      "Epoch 00017: val_acc did not improve from 0.94434\n",
      "Epoch 18/200\n",
      "36/36 [==============================] - 38s 1s/step - loss: 0.1493 - acc: 0.9436 - val_loss: 0.1584 - val_acc: 0.9357\n",
      "\n",
      "Epoch 00018: val_acc did not improve from 0.94434\n",
      "\n",
      "Epoch 00018: ReduceLROnPlateau reducing learning rate to 1e-07.\n",
      "Epoch 19/200\n",
      "36/36 [==============================] - 37s 1s/step - loss: 0.1479 - acc: 0.9424 - val_loss: 0.1625 - val_acc: 0.9376\n",
      "\n",
      "Epoch 00019: val_acc did not improve from 0.94434\n",
      "Epoch 20/200\n",
      "36/36 [==============================] - 38s 1s/step - loss: 0.1657 - acc: 0.9375 - val_loss: 0.1639 - val_acc: 0.9424\n",
      "\n",
      "Epoch 00020: val_acc did not improve from 0.94434\n",
      "\n",
      "Epoch 00020: ReduceLROnPlateau reducing learning rate to 1e-07.\n",
      "Epoch 21/200\n",
      "36/36 [==============================] - 38s 1s/step - loss: 0.1669 - acc: 0.9339 - val_loss: 0.1692 - val_acc: 0.9375\n",
      "\n",
      "Epoch 00021: val_acc did not improve from 0.94434\n",
      "Epoch 22/200\n",
      "36/36 [==============================] - 46s 1s/step - loss: 0.1461 - acc: 0.9473 - val_loss: 0.1753 - val_acc: 0.9299\n",
      "\n",
      "Epoch 00022: val_acc did not improve from 0.94434\n",
      "\n",
      "Epoch 00022: ReduceLROnPlateau reducing learning rate to 1e-07.\n",
      "Epoch 23/200\n",
      "36/36 [==============================] - 37s 1s/step - loss: 0.1602 - acc: 0.9374 - val_loss: 0.1657 - val_acc: 0.9395\n",
      "\n",
      "Epoch 00023: val_acc did not improve from 0.94434\n",
      "Epoch 24/200\n",
      "36/36 [==============================] - 38s 1s/step - loss: 0.1664 - acc: 0.9382 - val_loss: 0.1550 - val_acc: 0.9376\n",
      "\n",
      "Epoch 00024: val_acc did not improve from 0.94434\n",
      "\n",
      "Epoch 00024: ReduceLROnPlateau reducing learning rate to 1e-07.\n",
      "Epoch 25/200\n",
      "36/36 [==============================] - 37s 1s/step - loss: 0.1592 - acc: 0.9437 - val_loss: 0.1722 - val_acc: 0.9319\n",
      "\n",
      "Epoch 00025: val_acc did not improve from 0.94434\n",
      "Epoch 00025: early stopping\n"
     ]
    }
   ],
   "source": [
    "# fit/train model\n",
    "\n",
    "nb_epochs = 200\n",
    "\n",
    "history = model.fit_generator(\n",
    "    train_generator,\n",
    "    steps_per_epoch = train_generator.samples // batch_size,\n",
    "    validation_data = validation_generator, \n",
    "    validation_steps = validation_generator.samples // batch_size,\n",
    "    epochs = nb_epochs,\n",
    "    callbacks = [checkpoint, early_stop, learning_rate_reduction])"
   ]
  },
  {
   "cell_type": "code",
   "execution_count": 8,
   "metadata": {},
   "outputs": [
    {
     "name": "stdout",
     "output_type": "stream",
     "text": [
      "dict_keys(['val_loss', 'val_acc', 'loss', 'acc', 'lr'])\n"
     ]
    },
    {
     "data": {
      "image/png": "[encoded data removed]",
      "text/plain": [
       "<Figure size 432x288 with 1 Axes>"
      ]
     },
     "metadata": {
      "needs_background": "light"
     },
     "output_type": "display_data"
    },
    {
     "data": {
      "image/png": "[encoded data removed]",
      "text/plain": [
       "<Figure size 432x288 with 1 Axes>"
      ]
     },
     "metadata": {
      "needs_background": "light"
     },
     "output_type": "display_data"
    }
   ],
   "source": [
    "# list all data in history\n",
    "print(history.history.keys())\n",
    "\n",
    "import matplotlib.pyplot as plt\n",
    "\n",
    "# summarize history for accuracy\n",
    "plt.plot(history.history['acc'])\n",
    "plt.plot(history.history['val_acc'])\n",
    "plt.title('model accuracy')\n",
    "plt.ylabel('accuracy')\n",
    "plt.xlabel('epoch')\n",
    "plt.legend(['train', 'test'], loc='upper left')\n",
    "plt.show()\n",
    "\n",
    "# summarize history for loss\n",
    "plt.plot(history.history['loss'])\n",
    "plt.plot(history.history['val_loss'])\n",
    "plt.title('model loss')\n",
    "plt.ylabel('loss')\n",
    "plt.xlabel('epoch')\n",
    "plt.legend(['train', 'test'], loc='upper left')\n",
    "plt.show()"
   ]
  },
  {
   "cell_type": "code",
   "execution_count": null,
   "metadata": {},
   "outputs": [],
   "source": []
  }
 ],
 "metadata": {
  "kernelspec": {
   "display_name": "Python 3",
   "language": "python",
   "name": "python3"
  },
  "language_info": {
   "codemirror_mode": {
    "name": "ipython",
    "version": 3
   },
   "file_extension": ".py",
   "mimetype": "text/x-python",
   "name": "python",
   "nbconvert_exporter": "python",
   "pygments_lexer": "ipython3",
   "version": "3.8.5"
  }
 },
 "nbformat": 4,
 "nbformat_minor": 4
}
