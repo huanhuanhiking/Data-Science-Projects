{
 "cells": [
  {
   "cell_type": "code",
   "execution_count": 1,
   "metadata": {},
   "outputs": [
    {
     "name": "stderr",
     "output_type": "stream",
     "text": [
      "Using plaidml.keras.backend backend.\n"
     ]
    }
   ],
   "source": [
    "import os\n",
    "os.environ[\"KERAS_BACKEND\"] = \"plaidml.keras.backend\"\n",
    "import keras"
   ]
  },
  {
   "cell_type": "code",
   "execution_count": 2,
   "metadata": {},
   "outputs": [],
   "source": [
    "train_data_directory = 'C:/Users/jiahu/Documents/images'"
   ]
  },
  {
   "cell_type": "code",
   "execution_count": 3,
   "metadata": {},
   "outputs": [
    {
     "name": "stdout",
     "output_type": "stream",
     "text": [
      "Found 1210 images belonging to 10 classes.\n",
      "Found 295 images belonging to 10 classes.\n"
     ]
    }
   ],
   "source": [
    "# image data preprocessing\n",
    "image_size = (224,224)\n",
    "\n",
    "batch_size = 32\n",
    "\n",
    "class_mode = 'categorical' \n",
    "# for multi-class classification problem, use: class_mode = 'categorical' \n",
    "# for binary classification problem, use: class_mode = 'binary' \n",
    "\n",
    "from keras.preprocessing.image import ImageDataGenerator\n",
    "train_datagen = ImageDataGenerator(\n",
    "    rescale=1./255,\n",
    "    shear_range=0.2,\n",
    "    zoom_range=0.2,\n",
    "    width_shift_range=0.1,\n",
    "    height_shift_range=0.1,\n",
    "    horizontal_flip=True,\n",
    "    fill_mode=\"nearest\",\n",
    "    validation_split=0.2 # set validation split\n",
    "    ) \n",
    "\n",
    "train_generator = train_datagen.flow_from_directory(\n",
    "    train_data_directory,\n",
    "    target_size=image_size,\n",
    "    batch_size=batch_size,\n",
    "    class_mode=class_mode, # for multi-class classification problem, use 'category'\n",
    "    subset='training') # set as training data\n",
    "\n",
    "validation_generator = train_datagen.flow_from_directory(\n",
    "    train_data_directory, # same directory as training data\n",
    "    target_size=image_size,\n",
    "    batch_size=batch_size,\n",
    "    class_mode=class_mode, # for multi-class classification problem, use 'category'\n",
    "    subset='validation') # set as validation data"
   ]
  },
  {
   "cell_type": "code",
   "execution_count": 4,
   "metadata": {
    "scrolled": true
   },
   "outputs": [
    {
     "name": "stderr",
     "output_type": "stream",
     "text": [
      "INFO:plaidml:Opening device \"opencl_nvidia_geforce_rtx_3080.0\"\n"
     ]
    },
    {
     "name": "stdout",
     "output_type": "stream",
     "text": [
      "_________________________________________________________________\n",
      "Layer (type)                 Output Shape              Param #   \n",
      "=================================================================\n",
      "input_1 (InputLayer)         (None, 224, 224, 3)       0         \n",
      "_________________________________________________________________\n",
      "block1_conv1 (Conv2D)        (None, 224, 224, 64)      1792      \n",
      "_________________________________________________________________\n",
      "block1_conv2 (Conv2D)        (None, 224, 224, 64)      36928     \n",
      "_________________________________________________________________\n",
      "block1_pool (MaxPooling2D)   (None, 112, 112, 64)      0         \n",
      "_________________________________________________________________\n",
      "block2_conv1 (Conv2D)        (None, 112, 112, 128)     73856     \n",
      "_________________________________________________________________\n",
      "block2_conv2 (Conv2D)        (None, 112, 112, 128)     147584    \n",
      "_________________________________________________________________\n",
      "block2_pool (MaxPooling2D)   (None, 56, 56, 128)       0         \n",
      "_________________________________________________________________\n",
      "block3_conv1 (Conv2D)        (None, 56, 56, 256)       295168    \n",
      "_________________________________________________________________\n",
      "block3_conv2 (Conv2D)        (None, 56, 56, 256)       590080    \n",
      "_________________________________________________________________\n",
      "block3_conv3 (Conv2D)        (None, 56, 56, 256)       590080    \n",
      "_________________________________________________________________\n",
      "block3_pool (MaxPooling2D)   (None, 28, 28, 256)       0         \n",
      "_________________________________________________________________\n",
      "block4_conv1 (Conv2D)        (None, 28, 28, 512)       1180160   \n",
      "_________________________________________________________________\n",
      "block4_conv2 (Conv2D)        (None, 28, 28, 512)       2359808   \n",
      "_________________________________________________________________\n",
      "block4_conv3 (Conv2D)        (None, 28, 28, 512)       2359808   \n",
      "_________________________________________________________________\n",
      "block4_pool (MaxPooling2D)   (None, 14, 14, 512)       0         \n",
      "_________________________________________________________________\n",
      "block5_conv1 (Conv2D)        (None, 14, 14, 512)       2359808   \n",
      "_________________________________________________________________\n",
      "block5_conv2 (Conv2D)        (None, 14, 14, 512)       2359808   \n",
      "_________________________________________________________________\n",
      "block5_conv3 (Conv2D)        (None, 14, 14, 512)       2359808   \n",
      "_________________________________________________________________\n",
      "block5_pool (MaxPooling2D)   (None, 7, 7, 512)         0         \n",
      "_________________________________________________________________\n",
      "flatten_1 (Flatten)          (None, 25088)             0         \n",
      "_________________________________________________________________\n",
      "dense_1 (Dense)              (None, 2048)              51382272  \n",
      "_________________________________________________________________\n",
      "batch_normalization_1 (Batch (None, 2048)              8192      \n",
      "_________________________________________________________________\n",
      "dropout_1 (Dropout)          (None, 2048)              0         \n",
      "_________________________________________________________________\n",
      "dense_2 (Dense)              (None, 1024)              2098176   \n",
      "_________________________________________________________________\n",
      "batch_normalization_2 (Batch (None, 1024)              4096      \n",
      "_________________________________________________________________\n",
      "dropout_2 (Dropout)          (None, 1024)              0         \n",
      "_________________________________________________________________\n",
      "dense_3 (Dense)              (None, 512)               524800    \n",
      "_________________________________________________________________\n",
      "batch_normalization_3 (Batch (None, 512)               2048      \n",
      "_________________________________________________________________\n",
      "dropout_3 (Dropout)          (None, 512)               0         \n",
      "_________________________________________________________________\n",
      "dense_4 (Dense)              (None, 10)                5130      \n",
      "=================================================================\n",
      "Total params: 68,739,402\n",
      "Trainable params: 54,017,546\n",
      "Non-trainable params: 14,721,856\n",
      "_________________________________________________________________\n"
     ]
    }
   ],
   "source": [
    "from keras.models import Sequential\n",
    "from keras.layers import Dense, Conv2D, MaxPool2D , Flatten, BatchNormalization, Dropout\n",
    "from keras.applications import VGG16\n",
    "from keras.applications.resnet50 import ResNet50\n",
    "from keras import Model\n",
    "\n",
    "model = VGG16(\n",
    "    weights='imagenet',  # Load weights pre-trained on ImageNet.\n",
    "    input_shape=(224, 224, 3),\n",
    "    include_top=False)\n",
    "\n",
    "for layer in model.layers:\n",
    "    layer.trainable = False\n",
    "\n",
    "last = model.output\n",
    "\n",
    "x = Flatten()(last)\n",
    "x = Dense(2048, activation='relu')(x)\n",
    "x = BatchNormalization()(x)\n",
    "x = Dropout(0.5)(x)\n",
    "x = Dense(1024, activation='relu')(x)\n",
    "x = BatchNormalization()(x)\n",
    "x = Dropout(0.5)(x)\n",
    "x = Dense(512, activation='relu')(x)\n",
    "x = BatchNormalization()(x)\n",
    "x = Dropout(0.5)(x)\n",
    "predictions = Dense(10, activation='softmax')(x)\n",
    "\n",
    "# this is the model we will train\n",
    "model = Model(inputs=model.input, outputs=predictions)\n",
    "\n",
    "model.summary()"
   ]
  },
  {
   "cell_type": "code",
   "execution_count": 5,
   "metadata": {},
   "outputs": [],
   "source": [
    "# compile model\n",
    "from keras import optimizers\n",
    "model.compile(loss='categorical_crossentropy',\n",
    "          optimizer=optimizers.Adam(lr=0.001),\n",
    "          metrics=['acc'])"
   ]
  },
  {
   "cell_type": "code",
   "execution_count": 6,
   "metadata": {},
   "outputs": [],
   "source": [
    "# Callbacks\n",
    "from keras.callbacks import ModelCheckpoint, EarlyStopping, ReduceLROnPlateau\n",
    "checkpoint = ModelCheckpoint(\"dogbreeds_model.h5\", \n",
    "                             monitor='val_acc', \n",
    "                             verbose=1, \n",
    "                             save_best_only=True, \n",
    "                             save_weights_only=False, \n",
    "                             mode='auto')\n",
    "\n",
    "early_stop = EarlyStopping(monitor='val_acc', \n",
    "                      min_delta=0, \n",
    "                      patience=10, \n",
    "                      verbose=1, \n",
    "                      mode='auto')\n",
    "\n",
    "learning_rate_reduction = ReduceLROnPlateau(monitor='val_acc', \n",
    "                                            patience=2, \n",
    "                                            verbose=1, \n",
    "                                            factor=0.2, \n",
    "                                            min_lr=0.0000001)"
   ]
  },
  {
   "cell_type": "code",
   "execution_count": 7,
   "metadata": {
    "scrolled": false
   },
   "outputs": [
    {
     "name": "stdout",
     "output_type": "stream",
     "text": [
      "Epoch 1/20\n",
      "37/37 [==============================] - 13s 338ms/step - loss: 2.7594 - acc: 0.2835 - val_loss: 7.5548 - val_acc: 0.3160\n",
      "\n",
      "Epoch 00001: val_acc improved from -inf to 0.31597, saving model to dogbreeds_model.h5\n",
      "Epoch 2/20\n",
      "37/37 [==============================] - 13s 351ms/step - loss: 1.7427 - acc: 0.4732 - val_loss: 8.0584 - val_acc: 0.1749\n",
      "\n",
      "Epoch 00002: val_acc did not improve from 0.31597\n",
      "Epoch 3/20\n",
      "37/37 [==============================] - 13s 347ms/step - loss: 1.3583 - acc: 0.5743 - val_loss: 3.2116 - val_acc: 0.4373\n",
      "\n",
      "Epoch 00003: val_acc improved from 0.31597 to 0.43726, saving model to dogbreeds_model.h5\n",
      "Epoch 4/20\n",
      "37/37 [==============================] - 12s 335ms/step - loss: 0.9788 - acc: 0.6739 - val_loss: 2.1204 - val_acc: 0.5209\n",
      "\n",
      "Epoch 00004: val_acc improved from 0.43726 to 0.52091, saving model to dogbreeds_model.h5\n",
      "Epoch 5/20\n",
      "37/37 [==============================] - 12s 332ms/step - loss: 0.9334 - acc: 0.6980 - val_loss: 1.9002 - val_acc: 0.5513\n",
      "\n",
      "Epoch 00005: val_acc improved from 0.52091 to 0.55133, saving model to dogbreeds_model.h5\n",
      "Epoch 6/20\n",
      "37/37 [==============================] - 12s 324ms/step - loss: 0.7751 - acc: 0.7535 - val_loss: 1.0402 - val_acc: 0.7490\n",
      "\n",
      "Epoch 00006: val_acc improved from 0.55133 to 0.74905, saving model to dogbreeds_model.h5\n",
      "Epoch 7/20\n",
      "37/37 [==============================] - 12s 318ms/step - loss: 0.6685 - acc: 0.7835 - val_loss: 0.7624 - val_acc: 0.7757\n",
      "\n",
      "Epoch 00007: val_acc improved from 0.74905 to 0.77567, saving model to dogbreeds_model.h5\n",
      "Epoch 8/20\n",
      "37/37 [==============================] - 12s 313ms/step - loss: 0.6132 - acc: 0.8007 - val_loss: 0.7604 - val_acc: 0.7833\n",
      "\n",
      "Epoch 00008: val_acc improved from 0.77567 to 0.78327, saving model to dogbreeds_model.h5\n",
      "Epoch 9/20\n",
      "37/37 [==============================] - 11s 304ms/step - loss: 0.5221 - acc: 0.8228 - val_loss: 0.8369 - val_acc: 0.7833\n",
      "\n",
      "Epoch 00009: val_acc did not improve from 0.78327\n",
      "Epoch 10/20\n",
      "37/37 [==============================] - 11s 288ms/step - loss: 0.4206 - acc: 0.8610 - val_loss: 0.6915 - val_acc: 0.7947\n",
      "\n",
      "Epoch 00010: val_acc improved from 0.78327 to 0.79468, saving model to dogbreeds_model.h5\n",
      "Epoch 11/20\n",
      "37/37 [==============================] - 11s 287ms/step - loss: 0.3938 - acc: 0.8632 - val_loss: 0.6556 - val_acc: 0.8160\n",
      "\n",
      "Epoch 00011: val_acc improved from 0.79468 to 0.81597, saving model to dogbreeds_model.h5\n",
      "Epoch 12/20\n",
      "37/37 [==============================] - 12s 325ms/step - loss: 0.3599 - acc: 0.8809 - val_loss: 0.6383 - val_acc: 0.8517\n",
      "\n",
      "Epoch 00012: val_acc improved from 0.81597 to 0.85171, saving model to dogbreeds_model.h5\n",
      "Epoch 13/20\n",
      "37/37 [==============================] - 12s 316ms/step - loss: 0.3125 - acc: 0.8894 - val_loss: 0.5985 - val_acc: 0.8365\n",
      "\n",
      "Epoch 00013: val_acc did not improve from 0.85171\n",
      "Epoch 14/20\n",
      "37/37 [==============================] - 11s 310ms/step - loss: 0.2590 - acc: 0.9111 - val_loss: 0.6698 - val_acc: 0.8023\n",
      "\n",
      "Epoch 00014: val_acc did not improve from 0.85171\n",
      "\n",
      "Epoch 00014: ReduceLROnPlateau reducing learning rate to 0.00020000000949949026.\n",
      "Epoch 15/20\n",
      "37/37 [==============================] - 11s 309ms/step - loss: 0.2526 - acc: 0.9139 - val_loss: 0.4951 - val_acc: 0.8479\n",
      "\n",
      "Epoch 00015: val_acc did not improve from 0.85171\n",
      "Epoch 16/20\n",
      "37/37 [==============================] - 11s 303ms/step - loss: 0.2197 - acc: 0.9238 - val_loss: 0.3883 - val_acc: 0.8973\n",
      "\n",
      "Epoch 00016: val_acc improved from 0.85171 to 0.89734, saving model to dogbreeds_model.h5\n",
      "Epoch 17/20\n",
      "37/37 [==============================] - 11s 285ms/step - loss: 0.2256 - acc: 0.9235 - val_loss: 0.6087 - val_acc: 0.8593\n",
      "\n",
      "Epoch 00017: val_acc did not improve from 0.89734\n",
      "Epoch 18/20\n",
      "37/37 [==============================] - 11s 294ms/step - loss: 0.1943 - acc: 0.9248 - val_loss: 0.3637 - val_acc: 0.8897\n",
      "\n",
      "Epoch 00018: val_acc did not improve from 0.89734\n",
      "\n",
      "Epoch 00018: ReduceLROnPlateau reducing learning rate to 4.0000001899898055e-05.\n",
      "Epoch 19/20\n",
      "37/37 [==============================] - 11s 287ms/step - loss: 0.1768 - acc: 0.9314 - val_loss: 0.4379 - val_acc: 0.8821\n",
      "\n",
      "Epoch 00019: val_acc did not improve from 0.89734\n",
      "Epoch 20/20\n",
      "37/37 [==============================] - 11s 285ms/step - loss: 0.1804 - acc: 0.9415 - val_loss: 0.5264 - val_acc: 0.8479\n",
      "\n",
      "Epoch 00020: val_acc did not improve from 0.89734\n",
      "\n",
      "Epoch 00020: ReduceLROnPlateau reducing learning rate to 8.000000525498762e-06.\n"
     ]
    }
   ],
   "source": [
    "# fit/train model\n",
    "\n",
    "nb_epochs = 20\n",
    "\n",
    "history = model.fit_generator(\n",
    "    train_generator,\n",
    "    steps_per_epoch = train_generator.samples // batch_size,\n",
    "    validation_data = validation_generator, \n",
    "    validation_steps = validation_generator.samples // batch_size,\n",
    "    epochs = nb_epochs,\n",
    "    callbacks = [checkpoint, early_stop, learning_rate_reduction])"
   ]
  },
  {
   "cell_type": "code",
   "execution_count": 9,
   "metadata": {},
   "outputs": [
    {
     "name": "stdout",
     "output_type": "stream",
     "text": [
      "dict_keys(['val_loss', 'val_acc', 'loss', 'acc', 'lr'])\n"
     ]
    },
    {
     "data": {
      "image/png": "[encoded data removed]",
      "text/plain": [
       "<Figure size 432x288 with 1 Axes>"
      ]
     },
     "metadata": {
      "needs_background": "light"
     },
     "output_type": "display_data"
    },
    {
     "data": {
      "image/png": "[encoded data removed]",
      "text/plain": [
       "<Figure size 432x288 with 1 Axes>"
      ]
     },
     "metadata": {
      "needs_background": "light"
     },
     "output_type": "display_data"
    }
   ],
   "source": [
    "# list all data in history\n",
    "print(history.history.keys())\n",
    "\n",
    "import matplotlib.pyplot as plt\n",
    "\n",
    "# summarize history for accuracy\n",
    "plt.plot(history.history['acc'])\n",
    "plt.plot(history.history['val_acc'])\n",
    "plt.title('model accuracy')\n",
    "plt.ylabel('accuracy')\n",
    "plt.xlabel('epoch')\n",
    "plt.legend(['train', 'test'], loc='upper left')\n",
    "plt.show()\n",
    "\n",
    "# summarize history for loss\n",
    "plt.plot(history.history['loss'])\n",
    "plt.plot(history.history['val_loss'])\n",
    "plt.title('model loss')\n",
    "plt.ylabel('loss')\n",
    "plt.xlabel('epoch')\n",
    "plt.legend(['train', 'test'], loc='upper left')\n",
    "plt.show()"
   ]
  },
  {
   "cell_type": "code",
   "execution_count": null,
   "metadata": {},
   "outputs": [],
   "source": []
  }
 ],
 "metadata": {
  "kernelspec": {
   "display_name": "Python 3",
   "language": "python",
   "name": "python3"
  },
  "language_info": {
   "codemirror_mode": {
    "name": "ipython",
    "version": 3
   },
   "file_extension": ".py",
   "mimetype": "text/x-python",
   "name": "python",
   "nbconvert_exporter": "python",
   "pygments_lexer": "ipython3",
   "version": "3.8.5"
  }
 },
 "nbformat": 4,
 "nbformat_minor": 4
}
